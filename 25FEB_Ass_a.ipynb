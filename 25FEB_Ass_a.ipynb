{
 "cells": [
  {
   "cell_type": "code",
   "execution_count": 15,
   "id": "63ef87c0-7818-495e-b5b6-cf4ee4320211",
   "metadata": {},
   "outputs": [],
   "source": [
    "import pandas as pd\n",
    "course_name = [\"Data Science\", \"Machine Learning\", \"Big Data\", \"Data Engineer\"]\n",
    "duration = [2,3,6,4]\n",
    "df = pd.DataFrame(data = {\"course_name\" : course_name, \"duration\" : duration})"
   ]
  },
  {
   "cell_type": "markdown",
   "id": "74ba63ad-a47c-45ff-a9d5-893978be5ab9",
   "metadata": {},
   "source": [
    "# Qus 1"
   ]
  },
  {
   "cell_type": "code",
   "execution_count": 5,
   "id": "5a8610ce-7ec3-4cb7-88bb-03c23879e832",
   "metadata": {},
   "outputs": [
    {
     "data": {
      "text/html": [
       "<div>\n",
       "<style scoped>\n",
       "    .dataframe tbody tr th:only-of-type {\n",
       "        vertical-align: middle;\n",
       "    }\n",
       "\n",
       "    .dataframe tbody tr th {\n",
       "        vertical-align: top;\n",
       "    }\n",
       "\n",
       "    .dataframe thead th {\n",
       "        text-align: right;\n",
       "    }\n",
       "</style>\n",
       "<table border=\"1\" class=\"dataframe\">\n",
       "  <thead>\n",
       "    <tr style=\"text-align: right;\">\n",
       "      <th></th>\n",
       "      <th>course_name</th>\n",
       "      <th>duration</th>\n",
       "    </tr>\n",
       "  </thead>\n",
       "  <tbody>\n",
       "    <tr>\n",
       "      <th>0</th>\n",
       "      <td>Data Science</td>\n",
       "      <td>2</td>\n",
       "    </tr>\n",
       "    <tr>\n",
       "      <th>1</th>\n",
       "      <td>Machine Learning</td>\n",
       "      <td>3</td>\n",
       "    </tr>\n",
       "    <tr>\n",
       "      <th>2</th>\n",
       "      <td>Big Data</td>\n",
       "      <td>6</td>\n",
       "    </tr>\n",
       "    <tr>\n",
       "      <th>3</th>\n",
       "      <td>Data Engineer</td>\n",
       "      <td>4</td>\n",
       "    </tr>\n",
       "  </tbody>\n",
       "</table>\n",
       "</div>"
      ],
      "text/plain": [
       "        course_name  duration\n",
       "0      Data Science         2\n",
       "1  Machine Learning         3\n",
       "2          Big Data         6\n",
       "3     Data Engineer         4"
      ]
     },
     "execution_count": 5,
     "metadata": {},
     "output_type": "execute_result"
    }
   ],
   "source": [
    "df"
   ]
  },
  {
   "cell_type": "code",
   "execution_count": 7,
   "id": "25bbd784-2cd3-44ac-b6da-383cdbacc511",
   "metadata": {},
   "outputs": [
    {
     "data": {
      "text/plain": [
       "course_name    Machine Learning\n",
       "duration                      3\n",
       "Name: 1, dtype: object"
      ]
     },
     "execution_count": 7,
     "metadata": {},
     "output_type": "execute_result"
    }
   ],
   "source": [
    "df.iloc[1]"
   ]
  },
  {
   "cell_type": "code",
   "execution_count": 9,
   "id": "bf1812b0-591d-4081-a932-5924cc6fb04c",
   "metadata": {},
   "outputs": [
    {
     "data": {
      "text/html": [
       "<div>\n",
       "<style scoped>\n",
       "    .dataframe tbody tr th:only-of-type {\n",
       "        vertical-align: middle;\n",
       "    }\n",
       "\n",
       "    .dataframe tbody tr th {\n",
       "        vertical-align: top;\n",
       "    }\n",
       "\n",
       "    .dataframe thead th {\n",
       "        text-align: right;\n",
       "    }\n",
       "</style>\n",
       "<table border=\"1\" class=\"dataframe\">\n",
       "  <thead>\n",
       "    <tr style=\"text-align: right;\">\n",
       "      <th></th>\n",
       "      <th>course_name</th>\n",
       "      <th>duration</th>\n",
       "    </tr>\n",
       "  </thead>\n",
       "  <tbody>\n",
       "    <tr>\n",
       "      <th>1</th>\n",
       "      <td>Machine Learning</td>\n",
       "      <td>3</td>\n",
       "    </tr>\n",
       "  </tbody>\n",
       "</table>\n",
       "</div>"
      ],
      "text/plain": [
       "        course_name  duration\n",
       "1  Machine Learning         3"
      ]
     },
     "execution_count": 9,
     "metadata": {},
     "output_type": "execute_result"
    }
   ],
   "source": [
    "df[1:2]"
   ]
  },
  {
   "cell_type": "markdown",
   "id": "462e5603-1724-4cd1-9ff6-4ad95e64c382",
   "metadata": {},
   "source": [
    "# Qus 2"
   ]
  },
  {
   "cell_type": "raw",
   "id": "859d4312-d029-4c78-85da-4fe70136cf4d",
   "metadata": {},
   "source": [
    "loc: This function is primarily label-based , which means it is used for selecting by label . with \"loc\", you can access rows and columns in the DataFrame using their labels or boolean arrays.  \n",
    "\n",
    "iloc: This function  is integer-location based, used for selection by position . with \"iloc\", you can access rows and columns by their integer position . it's similar to Python's regular list slicing"
   ]
  },
  {
   "cell_type": "markdown",
   "id": "5cac1f68-39c6-44e6-a4d1-65c8d8fe8955",
   "metadata": {},
   "source": [
    "# Qus 3"
   ]
  },
  {
   "cell_type": "code",
   "execution_count": 16,
   "id": "ca544d56-78e4-443d-b1e7-63f87148bb41",
   "metadata": {},
   "outputs": [],
   "source": [
    "reindex=[3,0,1,2]\n",
    "new_df=df.reindex(reindex)"
   ]
  },
  {
   "cell_type": "code",
   "execution_count": 19,
   "id": "6397f74a-0932-4367-99a2-b456d17d2f92",
   "metadata": {},
   "outputs": [
    {
     "data": {
      "text/plain": [
       "course_name    Big Data\n",
       "duration              6\n",
       "Name: 2, dtype: object"
      ]
     },
     "execution_count": 19,
     "metadata": {},
     "output_type": "execute_result"
    }
   ],
   "source": [
    "new_df.loc[2]"
   ]
  },
  {
   "cell_type": "code",
   "execution_count": 20,
   "id": "a9977afa-11c4-430f-87e0-5f5684d0bfd8",
   "metadata": {},
   "outputs": [
    {
     "data": {
      "text/plain": [
       "course_name    Machine Learning\n",
       "duration                      3\n",
       "Name: 1, dtype: object"
      ]
     },
     "execution_count": 20,
     "metadata": {},
     "output_type": "execute_result"
    }
   ],
   "source": [
    "new_df.iloc[2]"
   ]
  },
  {
   "cell_type": "raw",
   "id": "cd84a5f7-1db7-4701-9492-ce78912a4aba",
   "metadata": {},
   "source": [
    "new_df.loc[2] returns the row with label/index 2. after reindexing , the label/index 2 corresponds to the row containing \"Big Data\" and duration 6.\n",
    "\n",
    "new_df.iloc[2] returns the row at the integer position 2. After reindexing, the row at the integer position 2 corresponds to the row containing \"Machine Learning\" and duration 3.\n",
    "\n"
   ]
  },
  {
   "cell_type": "markdown",
   "id": "cdb06594-206e-4a70-9e26-968b679bbf07",
   "metadata": {},
   "source": [
    "# Qus 4"
   ]
  },
  {
   "cell_type": "code",
   "execution_count": 22,
   "id": "1a9fe1b0-a74f-4e3f-af9a-b2ad1e320b97",
   "metadata": {},
   "outputs": [],
   "source": [
    "import pandas as pd\n",
    "import numpy as np\n",
    "columns = ['column_1', 'column_2', 'column_3', 'column_4', 'column_5', 'column_6']\n",
    "indices = [1,2,3,4,5,6]\n",
    "#Creating a dataframe:\n",
    "df1 = pd.DataFrame(np.random.rand(6,6), columns = columns, index = indices)"
   ]
  },
  {
   "cell_type": "code",
   "execution_count": 23,
   "id": "baa67b5a-5785-4a50-9026-13a38e5356a5",
   "metadata": {},
   "outputs": [
    {
     "data": {
      "text/html": [
       "<div>\n",
       "<style scoped>\n",
       "    .dataframe tbody tr th:only-of-type {\n",
       "        vertical-align: middle;\n",
       "    }\n",
       "\n",
       "    .dataframe tbody tr th {\n",
       "        vertical-align: top;\n",
       "    }\n",
       "\n",
       "    .dataframe thead th {\n",
       "        text-align: right;\n",
       "    }\n",
       "</style>\n",
       "<table border=\"1\" class=\"dataframe\">\n",
       "  <thead>\n",
       "    <tr style=\"text-align: right;\">\n",
       "      <th></th>\n",
       "      <th>column_1</th>\n",
       "      <th>column_2</th>\n",
       "      <th>column_3</th>\n",
       "      <th>column_4</th>\n",
       "      <th>column_5</th>\n",
       "      <th>column_6</th>\n",
       "    </tr>\n",
       "  </thead>\n",
       "  <tbody>\n",
       "    <tr>\n",
       "      <th>1</th>\n",
       "      <td>0.650399</td>\n",
       "      <td>0.070183</td>\n",
       "      <td>0.873284</td>\n",
       "      <td>0.255280</td>\n",
       "      <td>0.950023</td>\n",
       "      <td>0.017086</td>\n",
       "    </tr>\n",
       "    <tr>\n",
       "      <th>2</th>\n",
       "      <td>0.460036</td>\n",
       "      <td>0.681899</td>\n",
       "      <td>0.952631</td>\n",
       "      <td>0.515482</td>\n",
       "      <td>0.139133</td>\n",
       "      <td>0.096019</td>\n",
       "    </tr>\n",
       "    <tr>\n",
       "      <th>3</th>\n",
       "      <td>0.287621</td>\n",
       "      <td>0.005177</td>\n",
       "      <td>0.109243</td>\n",
       "      <td>0.641384</td>\n",
       "      <td>0.634264</td>\n",
       "      <td>0.510129</td>\n",
       "    </tr>\n",
       "    <tr>\n",
       "      <th>4</th>\n",
       "      <td>0.536074</td>\n",
       "      <td>0.684446</td>\n",
       "      <td>0.153827</td>\n",
       "      <td>0.299225</td>\n",
       "      <td>0.958068</td>\n",
       "      <td>0.534539</td>\n",
       "    </tr>\n",
       "    <tr>\n",
       "      <th>5</th>\n",
       "      <td>0.288468</td>\n",
       "      <td>0.483132</td>\n",
       "      <td>0.465344</td>\n",
       "      <td>0.540382</td>\n",
       "      <td>0.619780</td>\n",
       "      <td>0.234528</td>\n",
       "    </tr>\n",
       "    <tr>\n",
       "      <th>6</th>\n",
       "      <td>0.864880</td>\n",
       "      <td>0.090091</td>\n",
       "      <td>0.058613</td>\n",
       "      <td>0.385292</td>\n",
       "      <td>0.544447</td>\n",
       "      <td>0.976732</td>\n",
       "    </tr>\n",
       "  </tbody>\n",
       "</table>\n",
       "</div>"
      ],
      "text/plain": [
       "   column_1  column_2  column_3  column_4  column_5  column_6\n",
       "1  0.650399  0.070183  0.873284  0.255280  0.950023  0.017086\n",
       "2  0.460036  0.681899  0.952631  0.515482  0.139133  0.096019\n",
       "3  0.287621  0.005177  0.109243  0.641384  0.634264  0.510129\n",
       "4  0.536074  0.684446  0.153827  0.299225  0.958068  0.534539\n",
       "5  0.288468  0.483132  0.465344  0.540382  0.619780  0.234528\n",
       "6  0.864880  0.090091  0.058613  0.385292  0.544447  0.976732"
      ]
     },
     "execution_count": 23,
     "metadata": {},
     "output_type": "execute_result"
    }
   ],
   "source": [
    "df1"
   ]
  },
  {
   "cell_type": "markdown",
   "id": "7134e63b-a0a0-4192-bd83-eb0f10a222b2",
   "metadata": {},
   "source": [
    "# Qus 5"
   ]
  },
  {
   "cell_type": "code",
   "execution_count": 24,
   "id": "4829dd4d-e3a6-404a-bd3b-cfdb0fa64e4d",
   "metadata": {},
   "outputs": [
    {
     "data": {
      "text/plain": [
       "column_1    0.514580\n",
       "column_2    0.335821\n",
       "column_3    0.435490\n",
       "column_4    0.439508\n",
       "column_5    0.640952\n",
       "column_6    0.394839\n",
       "dtype: float64"
      ]
     },
     "execution_count": 24,
     "metadata": {},
     "output_type": "execute_result"
    }
   ],
   "source": [
    "df1.mean()"
   ]
  },
  {
   "cell_type": "code",
   "execution_count": 25,
   "id": "9c043cdd-5e25-40bb-897c-0c4249330d6c",
   "metadata": {},
   "outputs": [
    {
     "data": {
      "text/plain": [
       "0.3172638566052783"
      ]
     },
     "execution_count": 25,
     "metadata": {},
     "output_type": "execute_result"
    }
   ],
   "source": [
    "df1[\"column_2\"].std()"
   ]
  },
  {
   "cell_type": "code",
   "execution_count": 26,
   "id": "d0cc0a5d-9805-4a11-9431-559a603df97c",
   "metadata": {},
   "outputs": [],
   "source": [
    "df1.loc[2,\"column_2\"]=\"string_data\""
   ]
  },
  {
   "cell_type": "code",
   "execution_count": 27,
   "id": "039cdbf4-d3a6-4f1e-93d3-7986bf9ca1ce",
   "metadata": {},
   "outputs": [],
   "source": [
    "df1[\"column_2\"]=df1[\"column_2\"].astype(object)"
   ]
  },
  {
   "cell_type": "raw",
   "id": "33b5105e-05df-42d9-85aa-c59c8affecd1",
   "metadata": {},
   "source": [
    "df1[\"column_2\"].mean()\n",
    "# converting the column to an object type means lose the ability to perform numerical operations on it directly"
   ]
  },
  {
   "cell_type": "markdown",
   "id": "e614ab9d-fd11-45ca-b4d5-d46f416f0811",
   "metadata": {},
   "source": [
    "# Qus 6"
   ]
  },
  {
   "cell_type": "raw",
   "id": "68de5b62-6c33-474d-b1c8-7ff5c5e2cf99",
   "metadata": {},
   "source": [
    "1. Rolling window functions: These function perform calculations over a rolling window of data points.\n",
    "example:\n",
    "* Rolling mean :rolling().mean()\n",
    "* Rolling Sum :rolling().sum()\n",
    "\n",
    "2. Expanding window functions:these functions perform calculations over an expanding window, where the window size grows with each observation.\n",
    "Example:\n",
    "* Expanding mean :expanding().mean()\n",
    "* Expanding standard deviation:expanding().std()\n",
    "\n",
    "3. Exponential weighted window functions:These functions perform calculations using exponentially weighted moving averages, giving more weight to recent observations.\n",
    "Example:\n",
    "* Exponential moving average:ewm().mean()\n",
    "* Exponential moving sum: ewm().sum()"
   ]
  },
  {
   "cell_type": "markdown",
   "id": "4616d75a-6df3-4cec-b9b0-f466b5b2386f",
   "metadata": {},
   "source": [
    "# Qus 7\n"
   ]
  },
  {
   "cell_type": "code",
   "execution_count": 37,
   "id": "7a67b123-0dd3-4683-a4e1-001ba43259d7",
   "metadata": {},
   "outputs": [
    {
     "data": {
      "text/plain": [
       "4"
      ]
     },
     "execution_count": 37,
     "metadata": {},
     "output_type": "execute_result"
    }
   ],
   "source": [
    "import pandas as pd\n",
    "import datetime\n",
    "date=datetime.datetime.now()\n",
    "date.month\n"
   ]
  },
  {
   "cell_type": "code",
   "execution_count": 38,
   "id": "a8a63aec-e07d-43e2-a23b-afa71e3888bc",
   "metadata": {},
   "outputs": [
    {
     "data": {
      "text/plain": [
       "2024"
      ]
     },
     "execution_count": 38,
     "metadata": {},
     "output_type": "execute_result"
    }
   ],
   "source": [
    "date.year"
   ]
  },
  {
   "cell_type": "markdown",
   "id": "9bca6b13-b0d8-4918-a755-1b1959da7f91",
   "metadata": {},
   "source": [
    "# Qus 8"
   ]
  },
  {
   "cell_type": "code",
   "execution_count": 40,
   "id": "0ad526f2-0138-4e21-934f-64c8017e59ca",
   "metadata": {},
   "outputs": [
    {
     "name": "stdin",
     "output_type": "stream",
     "text": [
      "enter the start date: 2024-01-01\n",
      "enter the end date: 2024-04-04\n"
     ]
    }
   ],
   "source": [
    "import pandas as pd\n",
    "\n",
    "start_date=input(\"enter the start date:\")\n",
    "end_date=input(\"enter the end date:\")\n",
    "start=pd.to_datetime(start_date)\n",
    "end=pd.to_datetime(end_date)\n",
    "difference=end-start"
   ]
  },
  {
   "cell_type": "code",
   "execution_count": 45,
   "id": "3a8113b2-9066-4bb6-8605-0eca0c5a1d28",
   "metadata": {},
   "outputs": [
    {
     "data": {
      "text/plain": [
       "94"
      ]
     },
     "execution_count": 45,
     "metadata": {},
     "output_type": "execute_result"
    }
   ],
   "source": [
    "days=difference.days\n",
    "days"
   ]
  },
  {
   "cell_type": "code",
   "execution_count": 47,
   "id": "75b36684-7941-44fe-974f-1af26d99e956",
   "metadata": {},
   "outputs": [
    {
     "data": {
      "text/plain": [
       "0"
      ]
     },
     "execution_count": 47,
     "metadata": {},
     "output_type": "execute_result"
    }
   ],
   "source": [
    "hours=difference.seconds//3600\n",
    "hours"
   ]
  },
  {
   "cell_type": "code",
   "execution_count": 48,
   "id": "6e9a5660-6804-4949-96c1-a02cc57d01a0",
   "metadata": {},
   "outputs": [
    {
     "data": {
      "text/plain": [
       "0"
      ]
     },
     "execution_count": 48,
     "metadata": {},
     "output_type": "execute_result"
    }
   ],
   "source": [
    "minutes=(difference.seconds%3600)//60\n",
    "minutes"
   ]
  },
  {
   "cell_type": "markdown",
   "id": "41c563cb-eed3-41bc-beb4-804f39baea5e",
   "metadata": {},
   "source": [
    "# Qus 9"
   ]
  },
  {
   "cell_type": "code",
   "execution_count": 50,
   "id": "8f0d0389-2705-4af1-8ded-9429087c6575",
   "metadata": {},
   "outputs": [],
   "source": [
    "import pandas as pd\n"
   ]
  },
  {
   "cell_type": "code",
   "execution_count": 51,
   "id": "ca18695e-b78f-4b09-a9b2-202f1d144d97",
   "metadata": {},
   "outputs": [],
   "source": [
    "df=pd.read_csv(\"services.csv\")"
   ]
  },
  {
   "cell_type": "code",
   "execution_count": 52,
   "id": "fad072aa-0103-4633-a54d-9981b6c83724",
   "metadata": {},
   "outputs": [
    {
     "data": {
      "text/html": [
       "<div>\n",
       "<style scoped>\n",
       "    .dataframe tbody tr th:only-of-type {\n",
       "        vertical-align: middle;\n",
       "    }\n",
       "\n",
       "    .dataframe tbody tr th {\n",
       "        vertical-align: top;\n",
       "    }\n",
       "\n",
       "    .dataframe thead th {\n",
       "        text-align: right;\n",
       "    }\n",
       "</style>\n",
       "<table border=\"1\" class=\"dataframe\">\n",
       "  <thead>\n",
       "    <tr style=\"text-align: right;\">\n",
       "      <th></th>\n",
       "      <th>id</th>\n",
       "      <th>location_id</th>\n",
       "      <th>program_id</th>\n",
       "      <th>accepted_payments</th>\n",
       "      <th>alternate_name</th>\n",
       "      <th>application_process</th>\n",
       "      <th>audience</th>\n",
       "      <th>description</th>\n",
       "      <th>eligibility</th>\n",
       "      <th>email</th>\n",
       "      <th>...</th>\n",
       "      <th>interpretation_services</th>\n",
       "      <th>keywords</th>\n",
       "      <th>languages</th>\n",
       "      <th>name</th>\n",
       "      <th>required_documents</th>\n",
       "      <th>service_areas</th>\n",
       "      <th>status</th>\n",
       "      <th>wait_time</th>\n",
       "      <th>website</th>\n",
       "      <th>taxonomy_ids</th>\n",
       "    </tr>\n",
       "  </thead>\n",
       "  <tbody>\n",
       "    <tr>\n",
       "      <th>0</th>\n",
       "      <td>1</td>\n",
       "      <td>1</td>\n",
       "      <td>NaN</td>\n",
       "      <td>NaN</td>\n",
       "      <td>NaN</td>\n",
       "      <td>Walk in or apply by phone.</td>\n",
       "      <td>Older adults age 55 or over, ethnic minorities...</td>\n",
       "      <td>A walk-in center for older adults that provide...</td>\n",
       "      <td>Age 55 or over for most programs, age 60 or ov...</td>\n",
       "      <td>NaN</td>\n",
       "      <td>...</td>\n",
       "      <td>NaN</td>\n",
       "      <td>ADULT PROTECTION AND CARE SERVICES, Meal Sites...</td>\n",
       "      <td>NaN</td>\n",
       "      <td>Fair Oaks Adult Activity Center</td>\n",
       "      <td>NaN</td>\n",
       "      <td>Colma</td>\n",
       "      <td>active</td>\n",
       "      <td>No wait.</td>\n",
       "      <td>NaN</td>\n",
       "      <td>NaN</td>\n",
       "    </tr>\n",
       "    <tr>\n",
       "      <th>1</th>\n",
       "      <td>2</td>\n",
       "      <td>2</td>\n",
       "      <td>NaN</td>\n",
       "      <td>NaN</td>\n",
       "      <td>NaN</td>\n",
       "      <td>Apply by phone for an appointment.</td>\n",
       "      <td>Residents of San Mateo County age 55 or over</td>\n",
       "      <td>Provides training and job placement to eligibl...</td>\n",
       "      <td>Age 55 or over, county resident and willing an...</td>\n",
       "      <td>NaN</td>\n",
       "      <td>...</td>\n",
       "      <td>NaN</td>\n",
       "      <td>EMPLOYMENT/TRAINING SERVICES, Job Development,...</td>\n",
       "      <td>NaN</td>\n",
       "      <td>Second Career Employment Program</td>\n",
       "      <td>NaN</td>\n",
       "      <td>San Mateo County</td>\n",
       "      <td>active</td>\n",
       "      <td>Varies.</td>\n",
       "      <td>NaN</td>\n",
       "      <td>NaN</td>\n",
       "    </tr>\n",
       "    <tr>\n",
       "      <th>2</th>\n",
       "      <td>3</td>\n",
       "      <td>3</td>\n",
       "      <td>NaN</td>\n",
       "      <td>NaN</td>\n",
       "      <td>NaN</td>\n",
       "      <td>Phone for information (403-4300 Ext. 4322).</td>\n",
       "      <td>Older adults age 55 or over who can benefit fr...</td>\n",
       "      <td>Offers supportive counseling services to San M...</td>\n",
       "      <td>Resident of San Mateo County age 55 or over</td>\n",
       "      <td>NaN</td>\n",
       "      <td>...</td>\n",
       "      <td>NaN</td>\n",
       "      <td>Geriatric Counseling, Older Adults, Gay, Lesbi...</td>\n",
       "      <td>NaN</td>\n",
       "      <td>Senior Peer Counseling</td>\n",
       "      <td>NaN</td>\n",
       "      <td>San Mateo County</td>\n",
       "      <td>active</td>\n",
       "      <td>Varies.</td>\n",
       "      <td>NaN</td>\n",
       "      <td>NaN</td>\n",
       "    </tr>\n",
       "    <tr>\n",
       "      <th>3</th>\n",
       "      <td>4</td>\n",
       "      <td>4</td>\n",
       "      <td>NaN</td>\n",
       "      <td>NaN</td>\n",
       "      <td>NaN</td>\n",
       "      <td>Apply by phone.</td>\n",
       "      <td>Parents, children, families with problems of c...</td>\n",
       "      <td>Provides supervised visitation services and a ...</td>\n",
       "      <td>None</td>\n",
       "      <td>NaN</td>\n",
       "      <td>...</td>\n",
       "      <td>NaN</td>\n",
       "      <td>INDIVIDUAL AND FAMILY DEVELOPMENT SERVICES, Gr...</td>\n",
       "      <td>NaN</td>\n",
       "      <td>Family Visitation Center</td>\n",
       "      <td>NaN</td>\n",
       "      <td>San Mateo County</td>\n",
       "      <td>active</td>\n",
       "      <td>No wait.</td>\n",
       "      <td>NaN</td>\n",
       "      <td>NaN</td>\n",
       "    </tr>\n",
       "    <tr>\n",
       "      <th>4</th>\n",
       "      <td>5</td>\n",
       "      <td>5</td>\n",
       "      <td>NaN</td>\n",
       "      <td>NaN</td>\n",
       "      <td>NaN</td>\n",
       "      <td>Phone for information.</td>\n",
       "      <td>Low-income working families with children tran...</td>\n",
       "      <td>Provides fixed 8% short term loans to eligible...</td>\n",
       "      <td>Eligibility: Low-income family with legal cust...</td>\n",
       "      <td>NaN</td>\n",
       "      <td>...</td>\n",
       "      <td>NaN</td>\n",
       "      <td>COMMUNITY SERVICES, Speakers, Automobile Loans</td>\n",
       "      <td>NaN</td>\n",
       "      <td>Economic Self-Sufficiency Program</td>\n",
       "      <td>NaN</td>\n",
       "      <td>San Mateo County</td>\n",
       "      <td>active</td>\n",
       "      <td>NaN</td>\n",
       "      <td>NaN</td>\n",
       "      <td>NaN</td>\n",
       "    </tr>\n",
       "  </tbody>\n",
       "</table>\n",
       "<p>5 rows × 22 columns</p>\n",
       "</div>"
      ],
      "text/plain": [
       "   id  location_id  program_id accepted_payments alternate_name  \\\n",
       "0   1            1         NaN               NaN            NaN   \n",
       "1   2            2         NaN               NaN            NaN   \n",
       "2   3            3         NaN               NaN            NaN   \n",
       "3   4            4         NaN               NaN            NaN   \n",
       "4   5            5         NaN               NaN            NaN   \n",
       "\n",
       "                           application_process  \\\n",
       "0                   Walk in or apply by phone.   \n",
       "1           Apply by phone for an appointment.   \n",
       "2  Phone for information (403-4300 Ext. 4322).   \n",
       "3                              Apply by phone.   \n",
       "4                       Phone for information.   \n",
       "\n",
       "                                            audience  \\\n",
       "0  Older adults age 55 or over, ethnic minorities...   \n",
       "1       Residents of San Mateo County age 55 or over   \n",
       "2  Older adults age 55 or over who can benefit fr...   \n",
       "3  Parents, children, families with problems of c...   \n",
       "4  Low-income working families with children tran...   \n",
       "\n",
       "                                         description  \\\n",
       "0  A walk-in center for older adults that provide...   \n",
       "1  Provides training and job placement to eligibl...   \n",
       "2  Offers supportive counseling services to San M...   \n",
       "3  Provides supervised visitation services and a ...   \n",
       "4  Provides fixed 8% short term loans to eligible...   \n",
       "\n",
       "                                         eligibility email  ...  \\\n",
       "0  Age 55 or over for most programs, age 60 or ov...   NaN  ...   \n",
       "1  Age 55 or over, county resident and willing an...   NaN  ...   \n",
       "2        Resident of San Mateo County age 55 or over   NaN  ...   \n",
       "3                                               None   NaN  ...   \n",
       "4  Eligibility: Low-income family with legal cust...   NaN  ...   \n",
       "\n",
       "  interpretation_services                                           keywords  \\\n",
       "0                     NaN  ADULT PROTECTION AND CARE SERVICES, Meal Sites...   \n",
       "1                     NaN  EMPLOYMENT/TRAINING SERVICES, Job Development,...   \n",
       "2                     NaN  Geriatric Counseling, Older Adults, Gay, Lesbi...   \n",
       "3                     NaN  INDIVIDUAL AND FAMILY DEVELOPMENT SERVICES, Gr...   \n",
       "4                     NaN     COMMUNITY SERVICES, Speakers, Automobile Loans   \n",
       "\n",
       "  languages                               name required_documents  \\\n",
       "0       NaN    Fair Oaks Adult Activity Center                NaN   \n",
       "1       NaN   Second Career Employment Program                NaN   \n",
       "2       NaN             Senior Peer Counseling                NaN   \n",
       "3       NaN           Family Visitation Center                NaN   \n",
       "4       NaN  Economic Self-Sufficiency Program                NaN   \n",
       "\n",
       "      service_areas  status wait_time website taxonomy_ids  \n",
       "0             Colma  active  No wait.     NaN          NaN  \n",
       "1  San Mateo County  active   Varies.     NaN          NaN  \n",
       "2  San Mateo County  active   Varies.     NaN          NaN  \n",
       "3  San Mateo County  active  No wait.     NaN          NaN  \n",
       "4  San Mateo County  active       NaN     NaN          NaN  \n",
       "\n",
       "[5 rows x 22 columns]"
      ]
     },
     "execution_count": 52,
     "metadata": {},
     "output_type": "execute_result"
    }
   ],
   "source": [
    "df.head()"
   ]
  },
  {
   "cell_type": "code",
   "execution_count": 55,
   "id": "14360fd1-7930-4234-857f-f1de146879f5",
   "metadata": {},
   "outputs": [],
   "source": [
    "df[\"description\"]=pd.Categorical(df[\"description\"],ordered=True)"
   ]
  },
  {
   "cell_type": "code",
   "execution_count": 58,
   "id": "b91cd922-e904-494d-90e1-9093251f9a69",
   "metadata": {},
   "outputs": [],
   "source": [
    "s=df.sort_values(by=[\"description\"])"
   ]
  },
  {
   "cell_type": "code",
   "execution_count": 59,
   "id": "0c4ef643-4eb4-46fb-be57-b7ba7ddf0228",
   "metadata": {},
   "outputs": [
    {
     "data": {
      "text/html": [
       "<div>\n",
       "<style scoped>\n",
       "    .dataframe tbody tr th:only-of-type {\n",
       "        vertical-align: middle;\n",
       "    }\n",
       "\n",
       "    .dataframe tbody tr th {\n",
       "        vertical-align: top;\n",
       "    }\n",
       "\n",
       "    .dataframe thead th {\n",
       "        text-align: right;\n",
       "    }\n",
       "</style>\n",
       "<table border=\"1\" class=\"dataframe\">\n",
       "  <thead>\n",
       "    <tr style=\"text-align: right;\">\n",
       "      <th></th>\n",
       "      <th>id</th>\n",
       "      <th>location_id</th>\n",
       "      <th>program_id</th>\n",
       "      <th>accepted_payments</th>\n",
       "      <th>alternate_name</th>\n",
       "      <th>application_process</th>\n",
       "      <th>audience</th>\n",
       "      <th>description</th>\n",
       "      <th>eligibility</th>\n",
       "      <th>email</th>\n",
       "      <th>...</th>\n",
       "      <th>interpretation_services</th>\n",
       "      <th>keywords</th>\n",
       "      <th>languages</th>\n",
       "      <th>name</th>\n",
       "      <th>required_documents</th>\n",
       "      <th>service_areas</th>\n",
       "      <th>status</th>\n",
       "      <th>wait_time</th>\n",
       "      <th>website</th>\n",
       "      <th>taxonomy_ids</th>\n",
       "    </tr>\n",
       "  </thead>\n",
       "  <tbody>\n",
       "    <tr>\n",
       "      <th>5</th>\n",
       "      <td>6</td>\n",
       "      <td>6</td>\n",
       "      <td>NaN</td>\n",
       "      <td>NaN</td>\n",
       "      <td>NaN</td>\n",
       "      <td>Walk in or apply by phone for membership appli...</td>\n",
       "      <td>Any age</td>\n",
       "      <td>A multipurpose center offering a wide variety ...</td>\n",
       "      <td>None</td>\n",
       "      <td>NaN</td>\n",
       "      <td>...</td>\n",
       "      <td>NaN</td>\n",
       "      <td>ADULT PROTECTION AND CARE SERVICES, In-Home Su...</td>\n",
       "      <td>NaN</td>\n",
       "      <td>Little House Recreational Activities</td>\n",
       "      <td>NaN</td>\n",
       "      <td>San Mateo County</td>\n",
       "      <td>active</td>\n",
       "      <td>No wait.</td>\n",
       "      <td>NaN</td>\n",
       "      <td>NaN</td>\n",
       "    </tr>\n",
       "    <tr>\n",
       "      <th>0</th>\n",
       "      <td>1</td>\n",
       "      <td>1</td>\n",
       "      <td>NaN</td>\n",
       "      <td>NaN</td>\n",
       "      <td>NaN</td>\n",
       "      <td>Walk in or apply by phone.</td>\n",
       "      <td>Older adults age 55 or over, ethnic minorities...</td>\n",
       "      <td>A walk-in center for older adults that provide...</td>\n",
       "      <td>Age 55 or over for most programs, age 60 or ov...</td>\n",
       "      <td>NaN</td>\n",
       "      <td>...</td>\n",
       "      <td>NaN</td>\n",
       "      <td>ADULT PROTECTION AND CARE SERVICES, Meal Sites...</td>\n",
       "      <td>NaN</td>\n",
       "      <td>Fair Oaks Adult Activity Center</td>\n",
       "      <td>NaN</td>\n",
       "      <td>Colma</td>\n",
       "      <td>active</td>\n",
       "      <td>No wait.</td>\n",
       "      <td>NaN</td>\n",
       "      <td>NaN</td>\n",
       "    </tr>\n",
       "    <tr>\n",
       "      <th>17</th>\n",
       "      <td>18</td>\n",
       "      <td>18</td>\n",
       "      <td>NaN</td>\n",
       "      <td>NaN</td>\n",
       "      <td>NaN</td>\n",
       "      <td>Call for screening appointment. Medical visits...</td>\n",
       "      <td>NaN</td>\n",
       "      <td>By appointment only, Project Smile provides a ...</td>\n",
       "      <td>Low-income person without access to health care</td>\n",
       "      <td>NaN</td>\n",
       "      <td>...</td>\n",
       "      <td>NaN</td>\n",
       "      <td>HEALTH SERVICES, Outpatient Care, Community Cl...</td>\n",
       "      <td>NaN</td>\n",
       "      <td>Project Smile</td>\n",
       "      <td>NaN</td>\n",
       "      <td>East Palo Alto</td>\n",
       "      <td>active</td>\n",
       "      <td>Varies.</td>\n",
       "      <td>NaN</td>\n",
       "      <td>NaN</td>\n",
       "    </tr>\n",
       "  </tbody>\n",
       "</table>\n",
       "<p>3 rows × 22 columns</p>\n",
       "</div>"
      ],
      "text/plain": [
       "    id  location_id  program_id accepted_payments alternate_name  \\\n",
       "5    6            6         NaN               NaN            NaN   \n",
       "0    1            1         NaN               NaN            NaN   \n",
       "17  18           18         NaN               NaN            NaN   \n",
       "\n",
       "                                  application_process  \\\n",
       "5   Walk in or apply by phone for membership appli...   \n",
       "0                          Walk in or apply by phone.   \n",
       "17  Call for screening appointment. Medical visits...   \n",
       "\n",
       "                                             audience  \\\n",
       "5                                             Any age   \n",
       "0   Older adults age 55 or over, ethnic minorities...   \n",
       "17                                                NaN   \n",
       "\n",
       "                                          description  \\\n",
       "5   A multipurpose center offering a wide variety ...   \n",
       "0   A walk-in center for older adults that provide...   \n",
       "17  By appointment only, Project Smile provides a ...   \n",
       "\n",
       "                                          eligibility email  ...  \\\n",
       "5                                                None   NaN  ...   \n",
       "0   Age 55 or over for most programs, age 60 or ov...   NaN  ...   \n",
       "17    Low-income person without access to health care   NaN  ...   \n",
       "\n",
       "   interpretation_services                                           keywords  \\\n",
       "5                      NaN  ADULT PROTECTION AND CARE SERVICES, In-Home Su...   \n",
       "0                      NaN  ADULT PROTECTION AND CARE SERVICES, Meal Sites...   \n",
       "17                     NaN  HEALTH SERVICES, Outpatient Care, Community Cl...   \n",
       "\n",
       "   languages                                  name required_documents  \\\n",
       "5        NaN  Little House Recreational Activities                NaN   \n",
       "0        NaN       Fair Oaks Adult Activity Center                NaN   \n",
       "17       NaN                         Project Smile                NaN   \n",
       "\n",
       "       service_areas  status wait_time website taxonomy_ids  \n",
       "5   San Mateo County  active  No wait.     NaN          NaN  \n",
       "0              Colma  active  No wait.     NaN          NaN  \n",
       "17    East Palo Alto  active   Varies.     NaN          NaN  \n",
       "\n",
       "[3 rows x 22 columns]"
      ]
     },
     "execution_count": 59,
     "metadata": {},
     "output_type": "execute_result"
    }
   ],
   "source": [
    "s.head(3)"
   ]
  },
  {
   "cell_type": "markdown",
   "id": "47925ec0-6a31-4a5e-87c8-7b2153dd1f94",
   "metadata": {},
   "source": [
    "# Qus 10"
   ]
  },
  {
   "cell_type": "code",
   "execution_count": 90,
   "id": "ea065a97-cd6a-480e-840a-fcb35ff1b631",
   "metadata": {},
   "outputs": [],
   "source": [
    "df=pd.read_csv(\"Sales.csv\")"
   ]
  },
  {
   "cell_type": "code",
   "execution_count": 93,
   "id": "6feb7ec3-6dcc-425f-8082-193a87134ecd",
   "metadata": {},
   "outputs": [
    {
     "data": {
      "text/html": [
       "<div>\n",
       "<style scoped>\n",
       "    .dataframe tbody tr th:only-of-type {\n",
       "        vertical-align: middle;\n",
       "    }\n",
       "\n",
       "    .dataframe tbody tr th {\n",
       "        vertical-align: top;\n",
       "    }\n",
       "\n",
       "    .dataframe thead th {\n",
       "        text-align: right;\n",
       "    }\n",
       "</style>\n",
       "<table border=\"1\" class=\"dataframe\">\n",
       "  <thead>\n",
       "    <tr style=\"text-align: right;\">\n",
       "      <th></th>\n",
       "      <th>Date</th>\n",
       "      <th>Product Category</th>\n",
       "      <th>Sales</th>\n",
       "    </tr>\n",
       "  </thead>\n",
       "  <tbody>\n",
       "    <tr>\n",
       "      <th>0</th>\n",
       "      <td>1/1/2024</td>\n",
       "      <td>Machine</td>\n",
       "      <td>100</td>\n",
       "    </tr>\n",
       "    <tr>\n",
       "      <th>1</th>\n",
       "      <td>1/1/2024</td>\n",
       "      <td>TV</td>\n",
       "      <td>150</td>\n",
       "    </tr>\n",
       "    <tr>\n",
       "      <th>2</th>\n",
       "      <td>1/1/2024</td>\n",
       "      <td>Mobile</td>\n",
       "      <td>200</td>\n",
       "    </tr>\n",
       "    <tr>\n",
       "      <th>3</th>\n",
       "      <td>2/1/2024</td>\n",
       "      <td>Mobile</td>\n",
       "      <td>120</td>\n",
       "    </tr>\n",
       "    <tr>\n",
       "      <th>4</th>\n",
       "      <td>2/1/2024</td>\n",
       "      <td>Machine</td>\n",
       "      <td>130</td>\n",
       "    </tr>\n",
       "    <tr>\n",
       "      <th>5</th>\n",
       "      <td>2/1/2024</td>\n",
       "      <td>TV</td>\n",
       "      <td>180</td>\n",
       "    </tr>\n",
       "    <tr>\n",
       "      <th>6</th>\n",
       "      <td>3/1/2024</td>\n",
       "      <td>TV</td>\n",
       "      <td>90</td>\n",
       "    </tr>\n",
       "    <tr>\n",
       "      <th>7</th>\n",
       "      <td>3/1/2024</td>\n",
       "      <td>Mobile</td>\n",
       "      <td>170</td>\n",
       "    </tr>\n",
       "    <tr>\n",
       "      <th>8</th>\n",
       "      <td>3/1/2024</td>\n",
       "      <td>TV</td>\n",
       "      <td>150</td>\n",
       "    </tr>\n",
       "  </tbody>\n",
       "</table>\n",
       "</div>"
      ],
      "text/plain": [
       "       Date Product Category  Sales\n",
       "0  1/1/2024          Machine    100\n",
       "1  1/1/2024               TV    150\n",
       "2  1/1/2024           Mobile    200\n",
       "3  2/1/2024           Mobile    120\n",
       "4  2/1/2024          Machine    130\n",
       "5  2/1/2024               TV    180\n",
       "6  3/1/2024               TV     90\n",
       "7  3/1/2024          Mobile     170\n",
       "8  3/1/2024               TV    150"
      ]
     },
     "execution_count": 93,
     "metadata": {},
     "output_type": "execute_result"
    }
   ],
   "source": [
    "df"
   ]
  },
  {
   "cell_type": "code",
   "execution_count": 94,
   "id": "b739b451-1fad-4283-881a-4c73cfc29deb",
   "metadata": {},
   "outputs": [],
   "source": [
    "df[\"Date\"]=pd.to_datetime(df[\"Date\"])"
   ]
  },
  {
   "cell_type": "code",
   "execution_count": 96,
   "id": "6cf94409-6da2-4f16-8f3c-724dc8c61585",
   "metadata": {},
   "outputs": [],
   "source": [
    "sales_data=df.groupby([\"Product Category\",\"Date\"]).sum()"
   ]
  },
  {
   "cell_type": "code",
   "execution_count": 97,
   "id": "e12c998e-1b30-4774-a073-0a4c074e21db",
   "metadata": {},
   "outputs": [],
   "source": [
    "sales_data=sales_data.reset_index()"
   ]
  },
  {
   "cell_type": "code",
   "execution_count": 98,
   "id": "901aabb8-97c4-4407-b1f3-91e965410495",
   "metadata": {},
   "outputs": [],
   "source": [
    "pivot_sales_data = sales_data.pivot(index='Date', columns='Product Category', values='Sales')\n"
   ]
  },
  {
   "cell_type": "code",
   "execution_count": 101,
   "id": "1a32e2aa-60f6-4ee4-9387-93177468b069",
   "metadata": {},
   "outputs": [
    {
     "data": {
      "image/png": "[encoded data removed]",
      "text/plain": [
       "<Figure size 1000x600 with 1 Axes>"
      ]
     },
     "metadata": {},
     "output_type": "display_data"
    }
   ],
   "source": [
    "pivot_sales_data.plot(kind='bar', stacked=True, figsize=(10, 6))\n",
    "plt.title('Sales of Product Categories Over Time')\n",
    "plt.xlabel('Date')\n",
    "plt.ylabel('Sales')\n",
    "plt.xticks(rotation=45)\n",
    "plt.legend(title='Product Category')\n",
    "plt.tight_layout()\n",
    "plt.show()\n"
   ]
  },
  {
   "cell_type": "code",
   "execution_count": null,
   "id": "72398b86-693e-4ac8-b645-dedf8fa116ab",
   "metadata": {},
   "outputs": [],
   "source": []
  },
  {
   "cell_type": "code",
   "execution_count": 73,
   "id": "855a018c-ba3f-40da-bc84-3b0ab3721f43",
   "metadata": {},
   "outputs": [],
   "source": []
  },
  {
   "cell_type": "markdown",
   "id": "e62e72d1-5a00-4915-904b-ba5e5c522450",
   "metadata": {},
   "source": [
    "# Qus 11"
   ]
  },
  {
   "cell_type": "code",
   "execution_count": 77,
   "id": "86822530-0a13-48a6-818a-3d8198b0df17",
   "metadata": {},
   "outputs": [],
   "source": [
    "import pandas as pd"
   ]
  },
  {
   "cell_type": "code",
   "execution_count": 78,
   "id": "df82c78b-c32e-4892-a73d-3d662e4c5e93",
   "metadata": {},
   "outputs": [],
   "source": [
    "df=pd.read_csv(\"Student_data.csv.csv\")"
   ]
  },
  {
   "cell_type": "code",
   "execution_count": 79,
   "id": "93d6ec50-d250-46e4-bec3-8747036d77f6",
   "metadata": {},
   "outputs": [
    {
     "data": {
      "text/html": [
       "<div>\n",
       "<style scoped>\n",
       "    .dataframe tbody tr th:only-of-type {\n",
       "        vertical-align: middle;\n",
       "    }\n",
       "\n",
       "    .dataframe tbody tr th {\n",
       "        vertical-align: top;\n",
       "    }\n",
       "\n",
       "    .dataframe thead th {\n",
       "        text-align: right;\n",
       "    }\n",
       "</style>\n",
       "<table border=\"1\" class=\"dataframe\">\n",
       "  <thead>\n",
       "    <tr style=\"text-align: right;\">\n",
       "      <th></th>\n",
       "      <th>Student ID</th>\n",
       "      <th>Test Score</th>\n",
       "    </tr>\n",
       "  </thead>\n",
       "  <tbody>\n",
       "    <tr>\n",
       "      <th>0</th>\n",
       "      <td>1</td>\n",
       "      <td>85</td>\n",
       "    </tr>\n",
       "    <tr>\n",
       "      <th>1</th>\n",
       "      <td>2</td>\n",
       "      <td>90</td>\n",
       "    </tr>\n",
       "    <tr>\n",
       "      <th>2</th>\n",
       "      <td>3</td>\n",
       "      <td>80</td>\n",
       "    </tr>\n",
       "    <tr>\n",
       "      <th>3</th>\n",
       "      <td>4</td>\n",
       "      <td>75</td>\n",
       "    </tr>\n",
       "    <tr>\n",
       "      <th>4</th>\n",
       "      <td>5</td>\n",
       "      <td>85</td>\n",
       "    </tr>\n",
       "    <tr>\n",
       "      <th>5</th>\n",
       "      <td>6</td>\n",
       "      <td>82</td>\n",
       "    </tr>\n",
       "    <tr>\n",
       "      <th>6</th>\n",
       "      <td>7</td>\n",
       "      <td>78</td>\n",
       "    </tr>\n",
       "    <tr>\n",
       "      <th>7</th>\n",
       "      <td>8</td>\n",
       "      <td>85</td>\n",
       "    </tr>\n",
       "    <tr>\n",
       "      <th>8</th>\n",
       "      <td>9</td>\n",
       "      <td>90</td>\n",
       "    </tr>\n",
       "    <tr>\n",
       "      <th>9</th>\n",
       "      <td>10</td>\n",
       "      <td>85</td>\n",
       "    </tr>\n",
       "  </tbody>\n",
       "</table>\n",
       "</div>"
      ],
      "text/plain": [
       "   Student ID   Test Score\n",
       "0            1          85\n",
       "1            2          90\n",
       "2            3          80\n",
       "3            4          75\n",
       "4            5          85\n",
       "5            6          82\n",
       "6            7          78\n",
       "7            8          85\n",
       "8            9          90\n",
       "9           10          85"
      ]
     },
     "execution_count": 79,
     "metadata": {},
     "output_type": "execute_result"
    }
   ],
   "source": [
    "df"
   ]
  },
  {
   "cell_type": "code",
   "execution_count": 83,
   "id": "d7e6b7c9-e144-4eea-8ec1-28db366001c8",
   "metadata": {},
   "outputs": [],
   "source": [
    "mean=df[\"Test Score\"].mean()"
   ]
  },
  {
   "cell_type": "code",
   "execution_count": 84,
   "id": "28892c57-4aef-4ebd-bf38-c7303334d429",
   "metadata": {},
   "outputs": [],
   "source": [
    "median=df[\"Test Score\"].median()"
   ]
  },
  {
   "cell_type": "code",
   "execution_count": 85,
   "id": "df6a33c8-6845-4a17-a7e5-663bfde6e5a4",
   "metadata": {},
   "outputs": [],
   "source": [
    "mode=df[\"Test Score\"].mode()"
   ]
  },
  {
   "cell_type": "code",
   "execution_count": 88,
   "id": "fcabc95f-eda5-45b3-beec-0016eae597d6",
   "metadata": {},
   "outputs": [],
   "source": [
    "result=pd.DataFrame({\"statistic\":[\"Mean\",\"Median\",\"Mode\"],\n",
    "                     \"Value\":[mean,median,mode]\n",
    "                    })"
   ]
  },
  {
   "cell_type": "code",
   "execution_count": 89,
   "id": "c1bdf635-5f4b-4827-988e-c80a95018041",
   "metadata": {},
   "outputs": [
    {
     "data": {
      "text/html": [
       "<div>\n",
       "<style scoped>\n",
       "    .dataframe tbody tr th:only-of-type {\n",
       "        vertical-align: middle;\n",
       "    }\n",
       "\n",
       "    .dataframe tbody tr th {\n",
       "        vertical-align: top;\n",
       "    }\n",
       "\n",
       "    .dataframe thead th {\n",
       "        text-align: right;\n",
       "    }\n",
       "</style>\n",
       "<table border=\"1\" class=\"dataframe\">\n",
       "  <thead>\n",
       "    <tr style=\"text-align: right;\">\n",
       "      <th></th>\n",
       "      <th>statistic</th>\n",
       "      <th>Value</th>\n",
       "    </tr>\n",
       "  </thead>\n",
       "  <tbody>\n",
       "    <tr>\n",
       "      <th>0</th>\n",
       "      <td>Mean</td>\n",
       "      <td>83.5</td>\n",
       "    </tr>\n",
       "    <tr>\n",
       "      <th>1</th>\n",
       "      <td>Median</td>\n",
       "      <td>85.0</td>\n",
       "    </tr>\n",
       "    <tr>\n",
       "      <th>2</th>\n",
       "      <td>Mode</td>\n",
       "      <td>0    85\n",
       "Name: Test Score, dtype: int64</td>\n",
       "    </tr>\n",
       "  </tbody>\n",
       "</table>\n",
       "</div>"
      ],
      "text/plain": [
       "  statistic                                   Value\n",
       "0      Mean                                    83.5\n",
       "1    Median                                    85.0\n",
       "2      Mode  0    85\n",
       "Name: Test Score, dtype: int64"
      ]
     },
     "execution_count": 89,
     "metadata": {},
     "output_type": "execute_result"
    }
   ],
   "source": [
    "result"
   ]
  },
  {
   "cell_type": "code",
   "execution_count": null,
   "id": "3b8a3ce7-8efe-40d9-b23a-1ea96706afec",
   "metadata": {},
   "outputs": [],
   "source": []
  }
 ],
 "metadata": {
  "kernelspec": {
   "display_name": "Python 3 (ipykernel)",
   "language": "python",
   "name": "python3"
  },
  "language_info": {
   "codemirror_mode": {
    "name": "ipython",
    "version": 3
   },
   "file_extension": ".py",
   "mimetype": "text/x-python",
   "name": "python",
   "nbconvert_exporter": "python",
   "pygments_lexer": "ipython3",
   "version": "3.10.8"
  }
 },
 "nbformat": 4,
 "nbformat_minor": 5
}
